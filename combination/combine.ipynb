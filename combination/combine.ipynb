{
 "cells": [
  {
   "cell_type": "code",
   "execution_count": 1,
   "metadata": {},
   "outputs": [
    {
     "name": "stderr",
     "output_type": "stream",
     "text": [
      "Using TensorFlow backend.\n"
     ]
    }
   ],
   "source": [
    "import numpy as np\n",
    "import sys\n",
    "import os\n",
    "import cv2\n",
    "from yolo import YOLO\n",
    "from PIL import Image , ImageFont, ImageDraw\n",
    "import collections"
   ]
  },
  {
   "cell_type": "code",
   "execution_count": 2,
   "metadata": {},
   "outputs": [],
   "source": [
    "def main(yolo):\n",
    "    img = \"D:\\\\pywork\\\\combination\\\\testimg\\\\2.jpg\"\n",
    "    image = Image.open(img)\n",
    "    draw = ImageDraw.Draw(image)\n",
    "    img_cv=cv2.imread(\"D:\\\\pywork\\\\combination\\\\testimg\\\\2.jpg\")\n",
    "    \n",
    "    image_class, image_box = yolo.detect_image(image)\n",
    "    print(image_box)\n",
    "\n",
    "    for i, c in reversed(list(enumerate(image_class))):\n",
    "        predicted_class1 = yolo.class_names[c]\n",
    "        if predicted_class1 != 'person':\n",
    "            continue\n",
    "        person_box = image_box[i]\n",
    "        cells = []\n",
    "        cell_boxes = []\n",
    "        \n",
    "        for a, b in reversed(list(enumerate(image_class))):\n",
    "            predicted_class2 = yolo.class_names[b]\n",
    "            if predicted_class2 != 'cell phone':\n",
    "                continue\n",
    "            cell_box = image_box[a]\n",
    "            draw.rectangle( [(cell_box[0], cell_box[1]), \n",
    "                         (cell_box[0]+cell_box[2], cell_box[1]+cell_box[3])], fill=(0,255,0))\n",
    "            \n",
    "            if cell_box[0] > person_box[0] and cell_box[0] + cell_box[2] < person_box[0] + person_box[2]:\n",
    "                if cell_box[1] > person_box[1] and cell_box[1] + cell_box[3] < person_box[1] + person_box[3]:\n",
    "                    cells.append(predicted_class2)\n",
    "                    cell_boxes.append(cell_box)\n",
    "                    \n",
    "       \n",
    "        for i in range(len(cells)): \n",
    "            cell_class = \"\"\n",
    "            cell_class = str(cell_class)+\" \"+str(cells[i]) \n",
    "\n",
    "            \n",
    "        \n",
    "        \n",
    "        cv2.rectangle(img_cv, (person_box[0], person_box[1]), \n",
    "                         (person_box[0]+person_box[2], person_box[1]+person_box[3]), (0,255,0),2)\n",
    "        cv2.putText(img_cv, cell_class, (person_box[0],person_box[1]+20), cv2.FONT_HERSHEY_COMPLEX_SMALL,\n",
    "                                     1, (0, 255, 255), 1, cv2.LINE_AA)\n",
    "    \n",
    "    image.show()    \n",
    "    cv2.imshow(\"test\",img_cv)\n",
    "    cv2.waitKey(0)\n",
    "    cv2.destroyAllWindows()   "
   ]
  },
  {
   "cell_type": "code",
   "execution_count": 3,
   "metadata": {},
   "outputs": [
    {
     "name": "stdout",
     "output_type": "stream",
     "text": [
      "model_data/yolo.h5 model, anchors, and classes loaded.\n",
      "[[0, 130, 969, 1513], [0, 722, 1067, 1013], [603, 648, 140, 251]]\n"
     ]
    }
   ],
   "source": [
    "if __name__ == '__main__':\n",
    "    main(YOLO())"
   ]
  },
  {
   "cell_type": "code",
   "execution_count": 4,
   "metadata": {},
   "outputs": [
    {
     "name": "stdout",
     "output_type": "stream",
     "text": [
      "<PIL.PngImagePlugin.PngImageFile image mode=RGB size=1108x1478 at 0x227BE232E80>\n"
     ]
    }
   ],
   "source": [
    "#yolo = YOLO()\n",
    "img = \"D:\\\\pywork\\\\combination\\\\testimg\\\\1.png\"\n",
    "image = Image.open(img)\n",
    "#image_class, image_box = yolo.detect_image(image)\n",
    "#print(type(image_class))\n",
    "print(image)"
   ]
  },
  {
   "cell_type": "code",
   "execution_count": 5,
   "metadata": {},
   "outputs": [
    {
     "name": "stdout",
     "output_type": "stream",
     "text": [
      "<class 'numpy.ndarray'>\n"
     ]
    }
   ],
   "source": [
    "img = \"D:\\\\pywork\\\\combination\\\\testimg\\\\1.png\"\n",
    "image1 = Image.open(img)\n",
    "image = np.asarray(image1)\n",
    "print(type(image))"
   ]
  },
  {
   "cell_type": "code",
   "execution_count": 6,
   "metadata": {},
   "outputs": [],
   "source": [
    "a=cv2.imread(\"D:\\\\pywork\\\\combination\\\\testimg\\\\1.png\")\n",
    "cv2.imshow(\"test\",a)\n",
    "cv2.waitKey(0)\n",
    "cv2.destroyAllWindows()   "
   ]
  },
  {
   "cell_type": "code",
   "execution_count": null,
   "metadata": {},
   "outputs": [],
   "source": []
  }
 ],
 "metadata": {
  "kernelspec": {
   "display_name": "Python 3",
   "language": "python",
   "name": "python3"
  },
  "language_info": {
   "codemirror_mode": {
    "name": "ipython",
    "version": 3
   },
   "file_extension": ".py",
   "mimetype": "text/x-python",
   "name": "python",
   "nbconvert_exporter": "python",
   "pygments_lexer": "ipython3",
   "version": "3.6.0"
  }
 },
 "nbformat": 4,
 "nbformat_minor": 2
}
