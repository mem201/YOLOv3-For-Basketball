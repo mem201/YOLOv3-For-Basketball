{
 "cells": [
  {
   "cell_type": "code",
   "execution_count": 1,
   "metadata": {
    "scrolled": false
   },
   "outputs": [
    {
     "name": "stderr",
     "output_type": "stream",
     "text": [
      "C:\\Users\\user\\AppData\\Roaming\\Python\\Python36\\site-packages\\h5py\\__init__.py:34: FutureWarning: Conversion of the second argument of issubdtype from `float` to `np.floating` is deprecated. In future, it will be treated as `np.float64 == np.dtype(float).type`.\n",
      "  from ._conv import register_converters as _register_converters\n",
      "Using TensorFlow backend.\n"
     ]
    }
   ],
   "source": [
    "import sys\n",
    "import numpy as np\n",
    "from yolo import YOLO\n",
    "from PIL import Image\n",
    "import cv2\n"
   ]
  },
  {
   "cell_type": "code",
   "execution_count": 2,
   "metadata": {},
   "outputs": [],
   "source": [
    "\n",
    "def main(yolo):\n",
    "    img = 'C:/Users/user/Desktop/basketball/train/243.png'\n",
    "    image = Image.open(img)\n",
    "    image_cv = cv2.cvtColor(np.asarray(image),cv2.COLOR_RGB2BGR)  \n",
    "      \n",
    "    image_class, image_box = yolo.detect_image(image)\n",
    "    person_box = []\n",
    "    for i, c in reversed(list(enumerate(image_class))):\n",
    "            predicted_class = yolo.class_names[c]\n",
    "            if predicted_class != 'person':\n",
    "               continue\n",
    "            person_box = image_box[i]\n",
    "            \n",
    "            \n",
    "            top = max(0, np.floor(person_box[0] + 0.5).astype('int32'))            \n",
    "            left = max(0, np.floor(person_box[1] + 0.5).astype('int32'))\n",
    "            bottom = min(image.size[1], np.floor(person_box[2] + 0.5).astype('int32'))\n",
    "            right = min(image.size[0], np.floor(person_box[3] + 0.5).astype('int32'))            \n",
    "            x = int(left+(right-left)*1/6)\n",
    "            y = int(top+(bottom-top)*1/6)\n",
    "            w = int((right-left)*2/3)\n",
    "            h = int((bottom-top)*1/2)\n",
    "            crop_img= image_cv[y:y+h, x:x+w]\n",
    "            hsv = cv2.cvtColor(crop_img,cv2.COLOR_BGR2HSV)\n",
    "            HSV = hsv[int(h/2),int(w/2)]\n",
    "            print(HSV)\n",
    "            cv2.imshow(str(HSV[1]),crop_img )\n",
    "            cv2.waitKey(0)\n",
    "            cv2.destroyAllWindows()"
   ]
  },
  {
   "cell_type": "code",
   "execution_count": 3,
   "metadata": {},
   "outputs": [
    {
     "name": "stdout",
     "output_type": "stream",
     "text": [
      "model_data/yolo.h5 model, anchors, and classes loaded.\n",
      "(416, 416, 3)\n",
      "[133 116  66]\n",
      "[  8  52 107]\n",
      "[130 122  86]\n",
      "[160  36  42]\n",
      "[  7 223  89]\n",
      "[133  60  51]\n",
      "[150  33  46]\n",
      "[177  48  95]\n",
      "[ 7 67 65]\n",
      "[ 2 85 57]\n",
      "[143  54  80]\n",
      "[171  25 195]\n",
      "[129  94  76]\n",
      "[  8  55 148]\n",
      "[124  40 215]\n",
      "[128  40 185]\n",
      "[155  21 217]\n"
     ]
    }
   ],
   "source": [
    "if __name__ == '__main__':\n",
    "    main(YOLO())"
   ]
  },
  {
   "cell_type": "code",
   "execution_count": null,
   "metadata": {},
   "outputs": [],
   "source": []
  }
 ],
 "metadata": {
  "kernelspec": {
   "display_name": "Python 3",
   "language": "python",
   "name": "python3"
  },
  "language_info": {
   "codemirror_mode": {
    "name": "ipython",
    "version": 3
   },
   "file_extension": ".py",
   "mimetype": "text/x-python",
   "name": "python",
   "nbconvert_exporter": "python",
   "pygments_lexer": "ipython3",
   "version": "3.6.8"
  }
 },
 "nbformat": 4,
 "nbformat_minor": 2
}
