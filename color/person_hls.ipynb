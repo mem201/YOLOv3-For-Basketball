{
 "cells": [
  {
   "cell_type": "code",
   "execution_count": 3,
   "metadata": {
    "scrolled": false
   },
   "outputs": [
    {
     "name": "stderr",
     "output_type": "stream",
     "text": [
      "C:\\Users\\user\\AppData\\Roaming\\Python\\Python36\\site-packages\\h5py\\__init__.py:34: FutureWarning: Conversion of the second argument of issubdtype from `float` to `np.floating` is deprecated. In future, it will be treated as `np.float64 == np.dtype(float).type`.\n",
      "  from ._conv import register_converters as _register_converters\n",
      "Using TensorFlow backend.\n"
     ]
    }
   ],
   "source": [
    "import sys\n",
    "import numpy as np\n",
    "from yolo import YOLO\n",
    "from PIL import Image\n",
    "import cv2\n",
    "import numpy as np\n",
    "import collections"
   ]
  },
  {
   "cell_type": "code",
   "execution_count": 6,
   "metadata": {},
   "outputs": [],
   "source": [
    "def main(yolo):\n",
    "    img = 'C:/Users/user/Desktop/basketball/train/243.png'\n",
    "    image = Image.open(img)\n",
    "    image_cv = cv2.cvtColor(np.asarray(image),cv2.COLOR_RGB2BGR)  \n",
    "      \n",
    "    image_class, image_box = yolo.detect_image(image)\n",
    "    person_box = []\n",
    "    hls_list=[]\n",
    "    for i, c in reversed(list(enumerate(image_class))):\n",
    "            predicted_class = yolo.class_names[c]\n",
    "            if predicted_class != 'person':\n",
    "               continue\n",
    "            person_box = image_box[i]\n",
    "            \n",
    "            top = max(0, np.floor(person_box[0] + 0.5).astype('int32'))            \n",
    "            left = max(0, np.floor(person_box[1] + 0.5).astype('int32'))\n",
    "            bottom = min(image.size[1], np.floor(person_box[2] + 0.5).astype('int32'))\n",
    "            right = min(image.size[0], np.floor(person_box[3] + 0.5).astype('int32'))            \n",
    "            x = int(left+(right-left)*1/6)\n",
    "            y = int(top+(bottom-top)*1/6)\n",
    "            w = int((right-left)*2/3)\n",
    "            h = int((bottom-top)*1/2)\n",
    "            crop_img= image_cv[y:y+h, x:x+w]\n",
    "            hls = cv2.cvtColor(crop_img,cv2.COLOR_BGR2HLS)\n",
    "            HLS = hls[int(h/2),int(w/2)]\n",
    "            hls_list.append(HLS[1])\n",
    "            \n",
    "            print(HLS, hls_list)\n",
    "            cv2.imshow(str(HLS),crop_img)\n",
    "            cv2.waitKey(0)\n",
    "            cv2.destroyAllWindows()\n",
    "\n"
   ]
  },
  {
   "cell_type": "code",
   "execution_count": 7,
   "metadata": {},
   "outputs": [
    {
     "name": "stdout",
     "output_type": "stream",
     "text": [
      "model_data/yolo.h5 model, anchors, and classes loaded.\n",
      "(416, 416, 3)\n",
      "[133  51  75] [51]\n",
      "[ 8 96 29] [51, 96]\n",
      "[130  66  80] [51, 96, 66]\n",
      "[160  39  20] [51, 96, 66, 39]\n",
      "[  7  50 199] [51, 96, 66, 39, 50]\n",
      "[132  45  34] [51, 96, 66, 39, 50, 45]\n",
      "[150  43  18] [51, 96, 66, 39, 50, 45, 43]\n",
      "[177  86  27] [51, 96, 66, 39, 50, 45, 43, 86]\n",
      "[ 7 57 38] [51, 96, 66, 39, 50, 45, 43, 86, 57]\n",
      "[ 2 48 51] [51, 96, 66, 39, 50, 45, 43, 86, 57, 48]\n",
      "[143  72  30] [51, 96, 66, 39, 50, 45, 43, 86, 57, 48, 72]\n",
      "[171 186  35] [51, 96, 66, 39, 50, 45, 43, 86, 57, 48, 72, 186]\n",
      "[129  62  58] [51, 96, 66, 39, 50, 45, 43, 86, 57, 48, 72, 186, 62]\n",
      "[  8 132  33] [51, 96, 66, 39, 50, 45, 43, 86, 57, 48, 72, 186, 62, 132]\n",
      "[124 198  76] [51, 96, 66, 39, 50, 45, 43, 86, 57, 48, 72, 186, 62, 132, 198]\n",
      "[128 171  44] [51, 96, 66, 39, 50, 45, 43, 86, 57, 48, 72, 186, 62, 132, 198, 171]\n",
      "[155 208  49] [51, 96, 66, 39, 50, 45, 43, 86, 57, 48, 72, 186, 62, 132, 198, 171, 208]\n"
     ]
    }
   ],
   "source": [
    "if __name__ == '__main__':\n",
    "    main(YOLO())"
   ]
  },
  {
   "cell_type": "code",
   "execution_count": null,
   "metadata": {},
   "outputs": [],
   "source": []
  }
 ],
 "metadata": {
  "kernelspec": {
   "display_name": "Python 3",
   "language": "python",
   "name": "python3"
  },
  "language_info": {
   "codemirror_mode": {
    "name": "ipython",
    "version": 3
   },
   "file_extension": ".py",
   "mimetype": "text/x-python",
   "name": "python",
   "nbconvert_exporter": "python",
   "pygments_lexer": "ipython3",
   "version": "3.6.8"
  }
 },
 "nbformat": 4,
 "nbformat_minor": 2
}
