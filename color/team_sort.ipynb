{
 "cells": [
  {
   "cell_type": "code",
   "execution_count": 52,
   "metadata": {},
   "outputs": [
    {
     "name": "stdout",
     "output_type": "stream",
     "text": [
      "Original Data: [68, 5, 8, 85, 12, 56, 21, 16, 19, 60, 64, 72, 81, 78, 75]\n",
      "Sorted Data: [5, 8, 12, 16, 19, 21, 56, 60, 64, 68, 72, 75, 78, 81, 85]\n",
      "[[5, 8, 12, 16, 19, 21], [56, 60, 64, 68, 72, 75, 78, 81, 85]]\n"
     ]
    }
   ],
   "source": [
    "import random\n",
    "import numpy as np\n",
    "unsortData = [68, 5, 8, 85, 12, 56, 21, 16, 19, 60, 64, 72, 81, 78, 75]\n",
    "\n",
    "def insertion_sort(lst):\n",
    "    if len(lst) == 1:\n",
    "        return lst\n",
    "\n",
    "    for i in range(1, len(lst)):\n",
    "        temp = lst[i]\n",
    "        j = i - 1\n",
    "        while j >= 0 and temp < lst[j]:\n",
    "            lst[j + 1] = lst[j]\n",
    "            j -= 1\n",
    "        lst[j + 1] = temp\n",
    "    return lst\n",
    "\n",
    "a_list = []\n",
    "def middle(lst):\n",
    "    count = len(lst)\n",
    "    for i in range(1, count):\n",
    "        a=lst[i]-lst[i-1]\n",
    "        a_list.append(a)\n",
    "    maxlocation = a_list.index(max(a_list))\n",
    "    i = maxlocation+1\n",
    "    differencemax = max(a_list)\n",
    "    \n",
    "    team = [lst[:i] , lst[i:count]]\n",
    "    return team\n",
    "\n",
    "print (\"Original Data:\", unsortData)\n",
    "sortData = insertion_sort(unsortData);\n",
    "print (\"Sorted Data:\", sortData)\n",
    "team = middle(sortData)\n",
    "print(team)"
   ]
  },
  {
   "cell_type": "code",
   "execution_count": null,
   "metadata": {},
   "outputs": [],
   "source": []
  }
 ],
 "metadata": {
  "kernelspec": {
   "display_name": "Python 3",
   "language": "python",
   "name": "python3"
  },
  "language_info": {
   "codemirror_mode": {
    "name": "ipython",
    "version": 3
   },
   "file_extension": ".py",
   "mimetype": "text/x-python",
   "name": "python",
   "nbconvert_exporter": "python",
   "pygments_lexer": "ipython3",
   "version": "3.6.8"
  }
 },
 "nbformat": 4,
 "nbformat_minor": 2
}
