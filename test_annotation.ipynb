{
 "cells": [
  {
   "cell_type": "code",
   "execution_count": 1,
   "metadata": {},
   "outputs": [],
   "source": [
    "import xml.etree.ElementTree as ET\n",
    "import os \n",
    "\n",
    "sets=['Ann','rctp','Yi','ifan']\n",
    "\n",
    "classes = [\"0\", \"1\", \"2\", \"3\", \"4\", \"5\", \"6\", \"7\", \"8\", \"9\"]\n",
    "\n",
    "\n",
    "def convert_annotation(image_set,file_name, list_file):\n",
    "    #where the annotation of the dataset at\n",
    "    xml_dir ='D:/pywork/train/%s/annotation/%s.xml'%(image_set,file_name)\n",
    "    in_file = open(xml_dir)\n",
    "    tree=ET.parse(in_file)\n",
    "    root = tree.getroot()\n",
    "\n",
    "    for obj in root.iter('object'):\n",
    "       \n",
    "        cls = obj.find('name').text\n",
    "        if cls not in classes:\n",
    "            continue\n",
    "        cls_id = classes.index(cls)\n",
    "        xmlbox = obj.find('bndbox')\n",
    "        b = (int(xmlbox.find('xmin').text), int(xmlbox.find('ymin').text), int(xmlbox.find('xmax').text), int(xmlbox.find('ymax').text))\n",
    "        list_file.write(\" \" + \",\".join([str(a) for a in b]) + ',' + str(cls_id))\n",
    "\n",
    "for  image_set in sets:\n",
    "    #your dataset direction\n",
    "    image_dir=\"D:/pywork/train/%s/image/\"%image_set\n",
    "    an_dir ='D:/pywork/train/%s/annotation/'%image_set\n",
    "    #where you save the text file\n",
    "    txt_dir='D:/pywork/train/%s.txt'%image_set\n",
    "    \n",
    "    list_file=open(txt_dir,\"w\")\n",
    "    file_name=[]\n",
    "    for root, dirs, files in os.walk(an_dir) :\n",
    "        for a in files:\n",
    "          file_name.append(a)\n",
    "\n",
    "    for image_id in file_name:\n",
    "        num_xml=image_id.find('.xml')\n",
    "        file_name=str(image_id[0:num_xml])\n",
    "        list_file.write(str(image_dir+file_name+'.png'))\n",
    "        convert_annotation(image_set, file_name, list_file)\n",
    "        list_file.write('\\n')\n",
    "        \n",
    "    list_file.close()\n"
   ]
  },
  {
   "cell_type": "code",
   "execution_count": null,
   "metadata": {},
   "outputs": [],
   "source": []
  }
 ],
 "metadata": {
  "kernelspec": {
   "display_name": "Python 3",
   "language": "python",
   "name": "python3"
  },
  "language_info": {
   "codemirror_mode": {
    "name": "ipython",
    "version": 3
   },
   "file_extension": ".py",
   "mimetype": "text/x-python",
   "name": "python",
   "nbconvert_exporter": "python",
   "pygments_lexer": "ipython3",
   "version": "3.6.8"
  }
 },
 "nbformat": 4,
 "nbformat_minor": 2
}
